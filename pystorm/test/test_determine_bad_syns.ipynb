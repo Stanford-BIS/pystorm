{
 "cells": [
  {
   "cell_type": "code",
   "execution_count": null,
   "metadata": {},
   "outputs": [],
   "source": [
    "%load_ext autoreload\n",
    "%autoreload 2 \n",
    "\n",
    "%matplotlib inline\n",
    "import numpy as np\n",
    "import matplotlib.pyplot as plt\n",
    "\n",
    "import pystorm\n",
    "from pystorm.hal import HAL\n",
    "from pystorm.hal.net_builder import NetBuilder\n",
    "from pystorm.hal.run_control import RunControl"
   ]
  },
  {
   "cell_type": "code",
   "execution_count": null,
   "metadata": {},
   "outputs": [],
   "source": [
    "# call the function\n",
    "hal = HAL()\n",
    "nb = NetBuilder(hal)\n",
    "\n",
    "bad_syns, dbg = nb.determine_bad_syns()"
   ]
  },
  {
   "cell_type": "code",
   "execution_count": null,
   "metadata": {
    "scrolled": false
   },
   "outputs": [],
   "source": [
    "# this was basically my scratchpad to write the function, does basically the same thing\n",
    "# compare to function output afterwards\n",
    "plt.figure()\n",
    "plt.title('pulse widths by position')\n",
    "pw = dbg['pulse_widths']\n",
    "plt.imshow(pw)\n",
    "\n",
    "med = np.median(pw)\n",
    "std = np.std(pw)\n",
    "print(med, std)\n",
    "\n",
    "plt.figure()\n",
    "plt.title('pulse widths, lines are median +/- 1 std')\n",
    "plt.hist(pw.flatten(), bins=20)\n",
    "ax = plt.gca()\n",
    "plt.axvline(med, color='r')\n",
    "plt.axvline(med - std, color='r')\n",
    "plt.axvline(med + std, color='r')\n",
    "\n",
    "plt.figure()\n",
    "plt.title('pulse widths, lines are attrition cutoffs')\n",
    "plt.hist(pw.flatten(), bins=20)\n",
    "ax = plt.gca()\n",
    "\n",
    "pwflat = pw.flatten()\n",
    "fmaxes = 1 / pwflat\n",
    "order = np.argsort(fmaxes)\n",
    "fmax_for_attritions = []\n",
    "attritions = np.linspace(0, .5, 11)\n",
    "for attrition in attritions:\n",
    "    cutoff_idx = order[int(attrition * len(fmaxes))]\n",
    "    val = fmaxes[cutoff_idx]\n",
    "    plt.axvline(1 / val, color='r')\n",
    "    print('fmax at attrition of ' + \"{:0.2f}\".format(attrition) + ' is ' + str(val))\n",
    "    fmax_for_attritions.append(val)\n",
    "    \n",
    "    \n",
    "plt.figure()\n",
    "plt.title('fmax vs attrition')\n",
    "plt.plot(attritions, fmax_for_attritions)\n",
    "plt.xlabel('attrition')\n",
    "plt.ylabel('fmax')\n",
    "\n"
   ]
  },
  {
   "cell_type": "code",
   "execution_count": null,
   "metadata": {},
   "outputs": [],
   "source": [
    "# study correlation of high bias and slow pulse synapses\n",
    "hb = dbg['high_bias']\n",
    "plt.figure()\n",
    "plt.title('high bias syns')\n",
    "plt.imshow(hb)\n",
    "\n",
    "bad_pw = fmaxes < fmax_for_attritions[1]\n",
    "plt.figure()\n",
    "plt.title('slow pulse syns')\n",
    "plt.imshow(bad_pw.reshape(32, 32))\n",
    "\n",
    "plt.figure()\n",
    "plt.figure('both')\n",
    "plt.imshow(bad_pw.reshape(32, 32) & hb)\n",
    "\n",
    "redo_bad_syn = bad_pw.reshape(32, 32) | hb\n",
    "print(np.sum(redo_bad_syn), \"lost total neurons\")"
   ]
  },
  {
   "cell_type": "code",
   "execution_count": null,
   "metadata": {},
   "outputs": [],
   "source": [
    "# compare to output of call\n",
    "plt.figure()\n",
    "plt.title('XOR of function output and work in this notebook')\n",
    "plt.imshow(bad_syns & redo_bad_syn | ~bad_syns & ~redo_bad_syn) # xor"
   ]
  },
  {
   "cell_type": "code",
   "execution_count": null,
   "metadata": {
    "collapsed": true
   },
   "outputs": [],
   "source": []
  }
 ],
 "metadata": {
  "kernelspec": {
   "display_name": "Python 3",
   "language": "python",
   "name": "python3"
  },
  "language_info": {
   "codemirror_mode": {
    "name": "ipython",
    "version": 3
   },
   "file_extension": ".py",
   "mimetype": "text/x-python",
   "name": "python",
   "nbconvert_exporter": "python",
   "pygments_lexer": "ipython3",
   "version": "3.6.1"
  }
 },
 "nbformat": 4,
 "nbformat_minor": 2
}
