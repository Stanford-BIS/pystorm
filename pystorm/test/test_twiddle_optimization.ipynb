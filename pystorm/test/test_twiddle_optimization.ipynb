{
 "cells": [
  {
   "cell_type": "code",
   "execution_count": null,
   "metadata": {},
   "outputs": [],
   "source": [
    "%load_ext autoreload\n",
    "%autoreload 2\n",
    "\n",
    "from pystorm.hal import HAL\n",
    "from pystorm.hal.net_builder import NetBuilder\n",
    "\n",
    "import matplotlib.pyplot as plt\n",
    "%matplotlib inline\n",
    "\n",
    "import numpy as np"
   ]
  },
  {
   "cell_type": "code",
   "execution_count": null,
   "metadata": {
    "collapsed": true
   },
   "outputs": [],
   "source": [
    "# test the D > 1 create_default_yx_taps function (with no bad taps)\n",
    "# this is in the SY, SX space, not Y,X space\n",
    "\n",
    "np.random.seed(1)\n",
    "\n",
    "# making a Y-by-X pool of D dims located at (LY, LX)\n",
    "\n",
    "Y, X = (8, 8)\n",
    "LY, LX = (8, 0)\n",
    "\n",
    "N = X * Y\n",
    "D = 1\n",
    "\n",
    "SY = Y // 2\n",
    "SX = X // 2"
   ]
  },
  {
   "cell_type": "code",
   "execution_count": null,
   "metadata": {},
   "outputs": [],
   "source": [
    "# this stuff should all work fine\n",
    "hal = HAL()\n",
    "net_builder = NetBuilder(hal)\n",
    "\n",
    "# get the complete set of bad syn locations for the chip (slow PEs and high bias mismatch)\n",
    "bad_syns, _ = net_builder.determine_bad_syns()\n",
    "\n",
    "# create some nice taps, avoiding bad syns\n",
    "syn_tap_matrix = NetBuilder.create_default_yx_taps(Y // 2, X // 2, D, \n",
    "                                                  bad_syn=bad_syns[LY // 2 : (LY + Y) // 2, \n",
    "                                                                   LX // 2 : (LX + X) // 2])\n",
    "nrn_tap_matrix = NetBuilder.syn_taps_to_nrn_taps(syn_tap_matrix)\n",
    "NetBuilder.make_taps_even(nrn_tap_matrix)\n",
    "\n",
    "# set up the Network object\n",
    "# CREATE THE NETWORK WITH BIAS = 3!\n",
    "# we want as many people to fire as possible! otherwise we can't estimate gain\n",
    "net = net_builder.create_single_pool_net(Y, X, loc_yx=(LY, LX), tap_matrix=nrn_tap_matrix, biases=3, gain_divs=1)\n",
    "pool_obj = net.get_pools()[0]\n",
    "input_obj = net.get_inputs()[0]\n",
    "hal.map(net)\n",
    "\n",
    "# determine fmax\n",
    "safe_fmaxes = net_builder.determine_safe_fmaxes()\n",
    "fmax = safe_fmaxes[pool_obj]\n",
    "\n",
    "# this can screw up estimation\n",
    "hal.set_DAC_value('DAC_SOMA_REF', 1024)\n",
    "\n",
    "# estimate encoders and offsets\n",
    "encoders, offsets, _, _ = net_builder.determine_encoders_and_offsets(pool_obj, input_obj, fmax)\n",
    "\n",
    "# do it again, want to assess stability\n",
    "encoders_again, offsets_again, _, _ = net_builder.determine_encoders_and_offsets(pool_obj, input_obj, fmax)"
   ]
  },
  {
   "cell_type": "code",
   "execution_count": null,
   "metadata": {
    "scrolled": false
   },
   "outputs": [],
   "source": [
    "# determine good bias twiddle settings based on calibration and measured offsets\n",
    "bias_settings, new_offsets, good, bin_counts, dbg = \\\n",
    "    net_builder.optimize_bias_twiddles(pool_obj, encoders, offsets, policy='center')"
   ]
  },
  {
   "cell_type": "code",
   "execution_count": null,
   "metadata": {
    "scrolled": false
   },
   "outputs": [],
   "source": [
    "# plotting norm(encoders) vs offsets and vs new_offsets shows before-after effect of bias t\n",
    "\n",
    "# the first one shows the two trials' results diff'd\n",
    "NetBuilder.plot_neuron_yield_cone(encoders, offsets, good,\n",
    "                                 (encoders_again, offsets_again, np.ones(offsets.shape, dtype=int) * 2))\n",
    "\n",
    "# the second plot shows what the different bias levels should produce\n",
    "NetBuilder.plot_neuron_yield_cone(encoders, offsets, good)\n",
    "all_offsets = net_builder.get_pool_bias_twiddles(pool_obj)\n",
    "ax = plt.gca()\n",
    "for i in range(7):\n",
    "    NetBuilder.plot_neuron_yield_cone(encoders, \n",
    "                                      offsets + all_offsets[i, :].flatten() - all_offsets[6, :].flatten(), \n",
    "                                      good, ax=ax)\n",
    "    \n",
    "    \n",
    "NetBuilder.plot_neuron_yield_cone(encoders, new_offsets, good, (encoders, offsets, bias_settings))\n"
   ]
  },
  {
   "cell_type": "code",
   "execution_count": null,
   "metadata": {},
   "outputs": [],
   "source": [
    "# now do the encoder estimation experiment again with these biases\n",
    "\n",
    "net_builder = NetBuilder(hal)\n",
    "\n",
    "net = net_builder.create_single_pool_net(\n",
    "    Y, X, loc_yx=(LY, LX), tap_matrix=nrn_tap_matrix, biases=bias_settings, gain_divs=1)\n",
    "pool_obj = net.get_pools()[0]\n",
    "input_obj = net.get_inputs()[0]\n",
    "hal.map(net)\n",
    "\n",
    "encoders_ver, offsets_ver, _, _ = net_builder.determine_encoders_and_offsets(pool_obj, input_obj, fmax)"
   ]
  },
  {
   "cell_type": "code",
   "execution_count": null,
   "metadata": {
    "scrolled": false
   },
   "outputs": [],
   "source": [
    "NetBuilder.plot_neuron_yield_cone(encoders, offsets, good)\n",
    "\n",
    "NetBuilder.plot_neuron_yield_cone(encoders, new_offsets, good, (encoders, offsets, bias_settings))\n",
    "\n",
    "NetBuilder.plot_neuron_yield_cone(encoders_ver, offsets_ver, good, (encoders, offsets, bias_settings))\n",
    "\n",
    "NetBuilder.plot_neuron_yield_cone(encoders_ver, offsets_ver, good, (encoders, new_offsets, bias_settings))\n",
    "\n",
    "print(np.sum(good))\n",
    "fired_orig = np.sum(~np.isnan(offsets))\n",
    "fired_exp = np.sum(~np.isnan(new_offsets))\n",
    "fired_ver = np.sum(~np.isnan(offsets_ver))\n",
    "print('fired orig:', fired_orig)\n",
    "print('fired exp:', fired_exp)\n",
    "print('fired ver:', fired_ver)\n",
    "\n",
    "good_orig = np.sum(NetBuilder.get_good_mask(encoders, offsets))\n",
    "good_exp = np.sum(NetBuilder.get_good_mask(encoders, new_offsets))\n",
    "good_ver = np.sum(NetBuilder.get_good_mask(encoders_ver, offsets_ver))\n",
    "print('good orig:', good_orig)\n",
    "print('good exp:', good_exp)\n",
    "print('good ver:', good_ver)\n"
   ]
  },
  {
   "cell_type": "code",
   "execution_count": null,
   "metadata": {},
   "outputs": [],
   "source": [
    "print(bias_settings)"
   ]
  },
  {
   "cell_type": "code",
   "execution_count": null,
   "metadata": {
    "collapsed": true
   },
   "outputs": [],
   "source": []
  }
 ],
 "metadata": {
  "kernelspec": {
   "display_name": "Python 3",
   "language": "python",
   "name": "python3"
  },
  "language_info": {
   "codemirror_mode": {
    "name": "ipython",
    "version": 3
   },
   "file_extension": ".py",
   "mimetype": "text/x-python",
   "name": "python",
   "nbconvert_exporter": "python",
   "pygments_lexer": "ipython3",
   "version": "3.6.1"
  }
 },
 "nbformat": 4,
 "nbformat_minor": 2
}
