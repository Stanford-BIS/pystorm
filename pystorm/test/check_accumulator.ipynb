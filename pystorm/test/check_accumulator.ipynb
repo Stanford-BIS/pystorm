{
 "cells": [
  {
   "cell_type": "code",
   "execution_count": 1,
   "metadata": {},
   "outputs": [],
   "source": [
    "%matplotlib inline\n",
    "import numpy as np\n",
    "import matplotlib.pyplot as plt\n",
    "\n",
    "import pystorm\n",
    "from pystorm.hal import HAL\n",
    "from pystorm.hal.net_builder import NetBuilder\n",
    "from pystorm.hal.run_control import RunControl"
   ]
  },
  {
   "cell_type": "code",
   "execution_count": 2,
   "metadata": {},
   "outputs": [],
   "source": [
    "# set parameters for network\n",
    "#   number of neurons\n",
    "# create the network\n",
    "#   set tap points - this can be encapsulated and improved later\n",
    "\n",
    "# what should I set the gain and bias bits to?\n",
    "# \n",
    "X = 16\n",
    "Y = 16\n",
    "NNEURON = X*Y\n",
    "DIM = 1\n",
    "FMAX = 1000\n",
    "\n",
    "hal = pystorm.hal.HAL()"
   ]
  },
  {
   "cell_type": "code",
   "execution_count": 3,
   "metadata": {},
   "outputs": [],
   "source": [
    "net_builder = NetBuilder(hal)\n",
    "\n",
    "bad_syn = hal.get_calibration(\"synapse\", \"high_bias_magnitude\")\n",
    "SX = X // 2\n",
    "SY = Y // 2\n",
    "tap_matrix_syn = net_builder.create_default_yx_taps(SY, SX, DIM, bad_syn)\n",
    "tap_matrix = net_builder.syn_taps_to_nrn_taps(tap_matrix_syn)\n",
    "np.savetxt(\"tap_matrix.txt\", tap_matrix)"
   ]
  },
  {
   "cell_type": "code",
   "execution_count": 4,
   "metadata": {},
   "outputs": [],
   "source": [
    "gain_divs = np.loadtxt(\"gain_divisors.txt\", dtype=int)\n",
    "biases = np.loadtxt(\"biases.txt\", dtype=int)\n",
    "net = net_builder.create_single_pool_net(Y, X, tap_matrix, biases=biases, gain_divs=gain_divs)\n",
    "run_control = RunControl(hal, net)\n",
    "\n",
    "hal.map(net)"
   ]
  },
  {
   "cell_type": "code",
   "execution_count": 7,
   "metadata": {},
   "outputs": [
    {
     "name": "stdout",
     "output_type": "stream",
     "text": [
      "(None, None)\n",
      "({Pool p1: array([[1, 0, 0, ..., 0, 0, 0],\n",
      "       [0, 0, 0, ..., 0, 0, 0],\n",
      "       [0, 0, 3, ..., 0, 0, 0],\n",
      "       ...,\n",
      "       [0, 0, 0, ..., 0, 0, 0],\n",
      "       [2, 0, 0, ..., 0, 0, 0],\n",
      "       [0, 3, 0, ..., 0, 0, 0]], dtype=uint32)}, array([46153410000, 46154410000, 46155410000, ..., 48798410000,\n",
      "       48799410000, 48800410000], dtype=uint64))\n"
     ]
    }
   ],
   "source": [
    "# collect data for training\n",
    "# calculate decode weights\n",
    "#   use linear function offset at 0\n",
    "\n",
    "total_train_time = 3\n",
    "total_train_points = 11\n",
    "offset_time = 0.5\n",
    "\n",
    "train_rates = (FMAX * np.linspace(-1, 1, total_train_points)).reshape((-1, 1))\n",
    "\n",
    "train_time_ns = (np.linspace(offset_time, total_train_time+offset_time, total_train_points)*1E9).astype(int)\n",
    "train_time_ns += hal.get_time()\n",
    "\n",
    "input_obj = net.inputs[0]\n",
    "input_vals = {input_obj:(train_time_ns, train_rates)}\n",
    "outputs, spikes = run_control.run_input_sweep(input_vals, get_raw_spikes=True, get_outputs=True)\n",
    "print(outputs)\n",
    "print(spikes)"
   ]
  },
  {
   "cell_type": "code",
   "execution_count": 6,
   "metadata": {
    "collapsed": true
   },
   "outputs": [],
   "source": [
    "# run tests\n",
    "#  deliver an input of 0 "
   ]
  }
 ],
 "metadata": {
  "hide_input": false,
  "kernelspec": {
   "display_name": "Python 3",
   "language": "python",
   "name": "python3"
  },
  "language_info": {
   "codemirror_mode": {
    "name": "ipython",
    "version": 3
   },
   "file_extension": ".py",
   "mimetype": "text/x-python",
   "name": "python",
   "nbconvert_exporter": "python",
   "pygments_lexer": "ipython3",
   "version": "3.6.2"
  },
  "toc": {
   "base_numbering": 1,
   "nav_menu": {},
   "number_sections": true,
   "sideBar": true,
   "skip_h1_title": false,
   "title_cell": "Table of Contents",
   "title_sidebar": "Contents",
   "toc_cell": false,
   "toc_position": {},
   "toc_section_display": true,
   "toc_window_display": false
  }
 },
 "nbformat": 4,
 "nbformat_minor": 2
}
