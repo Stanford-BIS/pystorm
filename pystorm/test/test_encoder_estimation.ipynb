{
 "cells": [
  {
   "cell_type": "code",
   "execution_count": 98,
   "metadata": {},
   "outputs": [
    {
     "name": "stdout",
     "output_type": "stream",
     "text": [
      "The autoreload extension is already loaded. To reload it, use:\n",
      "  %reload_ext autoreload\n"
     ]
    }
   ],
   "source": [
    "%load_ext autoreload\n",
    "%autoreload 2\n",
    "\n",
    "from pystorm.hal.net_builder import NetBuilder\n",
    "from pystorm.hal.calibrator import Calibrator\n",
    "\n",
    "import matplotlib.pyplot as plt\n",
    "%matplotlib inline\n",
    "\n",
    "import numpy as np"
   ]
  },
  {
   "cell_type": "code",
   "execution_count": 99,
   "metadata": {
    "collapsed": true
   },
   "outputs": [],
   "source": [
    "# create a tap list\n",
    "\n",
    "Y = 8\n",
    "X = 8\n",
    "D = 3\n",
    "N = X * Y\n",
    "LAMBDA = 2\n",
    "\n",
    "def to_idx(x, y):\n",
    "    return y * X + x\n",
    "\n",
    "if D == 1:\n",
    "    tap_list = [\n",
    "        [(to_idx(1, 1), 1), (to_idx(6, 3), -1)]]\n",
    "elif D == 2:\n",
    "    #tap_list = [\n",
    "    #    [(to_idx(1, 1), 1), (to_idx(6, 3), -1)],\n",
    "    #    [(to_idx(2, 5), 1), (to_idx(5, 2), -1)]]\n",
    "    tap_list = [\n",
    "        [(to_idx(1, 1), 1)],\n",
    "        []]\n",
    "elif D == 3:\n",
    "    #tap_list = [\n",
    "    #    [(to_idx(1, 1), 1), (to_idx(6, 3), -1)],\n",
    "    #    [(to_idx(2, 5), 1), (to_idx(5, 2), -1)]]\n",
    "    tap_list = [\n",
    "        [],\n",
    "        [(to_idx(1, 1), 1)],\n",
    "        []]\n",
    "dims = D"
   ]
  },
  {
   "cell_type": "code",
   "execution_count": 100,
   "metadata": {
    "collapsed": true
   },
   "outputs": [],
   "source": [
    "# generate approximate encoders\n",
    "\n",
    "approx_encs = Calibrator.get_approx_encoders(tap_list, Y, X, LAMBDA)"
   ]
  },
  {
   "cell_type": "code",
   "execution_count": 101,
   "metadata": {},
   "outputs": [
    {
     "data": {
      "image/png": "[encoded data removed]",
      "text/plain": [
       "<Figure size 432x288 with 3 Axes>"
      ]
     },
     "metadata": {},
     "output_type": "display_data"
    }
   ],
   "source": [
    "# plot the approximate encoders\n",
    "\n",
    "yx_approx_encs = approx_encs.T.reshape((dims, Y, X))\n",
    "\n",
    "if D == 1:\n",
    "    plt.figure()\n",
    "    plt.imshow(yx_approx_encs[0, :, :].T)\n",
    "if D > 1:\n",
    "    fig, ax = plt.subplots(1, D)\n",
    "    for d in range(D):\n",
    "        ax[d].imshow(yx_approx_encs[d, :, :].T)\n",
    "\n",
    "# first two dims\n",
    "if D == 2:\n",
    "    plt.figure(figsize=(5,5))\n",
    "    plt.scatter(approx_encs[:, 0], approx_encs[:, 1])"
   ]
  },
  {
   "cell_type": "code",
   "execution_count": 107,
   "metadata": {},
   "outputs": [
    {
     "name": "stdout",
     "output_type": "stream",
     "text": [
      "1\n",
      "(15, 3)\n",
      "[[0. 0. 0.]\n",
      " [0. 1. 0.]]\n",
      "[[ 0.          1.          0.        ]\n",
      " [ 0.69215265  0.70710678  0.14465374]\n",
      " [-0.14465374  0.70710678  0.69215265]\n",
      " [-0.69215265  0.70710678 -0.14465374]\n",
      " [ 0.14465374  0.70710678 -0.69215265]\n",
      " [ 0.          1.          0.        ]\n",
      " [-0.87977845  0.38268343 -0.28203418]\n",
      " [ 0.28203418  0.38268343 -0.87977845]\n",
      " [ 0.87977845  0.38268343  0.28203418]\n",
      " [-0.28203418  0.38268343  0.87977845]\n",
      " [ 0.          1.          0.        ]\n",
      " [-0.57782522  0.19509032 -0.79250097]\n",
      " [-0.79250097  0.19509032  0.57782522]\n",
      " [ 0.57782522  0.19509032  0.79250097]\n",
      " [ 0.79250097  0.19509032 -0.57782522]]\n"
     ]
    }
   ],
   "source": [
    "# get sample points\n",
    "samples_per_enc = 1\n",
    "ANGLES_AWAY = [np.pi / 4, np.pi / 8, np.pi / 16]\n",
    "\n",
    "sample_pts = None\n",
    "for angle in ANGLES_AWAY:\n",
    "    new_sample_pts, thresh_encs = Calibrator.get_sample_points_around_encs(approx_encs, angle, samples_per_enc)\n",
    "    if sample_pts is None:\n",
    "        sample_pts = new_sample_pts\n",
    "    else:\n",
    "        sample_pts = np.vstack((sample_pts, new_sample_pts))\n",
    "print(samples_per_enc)\n",
    "print(sample_pts.shape)\n",
    "print(thresh_encs)\n",
    "print(sample_pts)"
   ]
  },
  {
   "cell_type": "code",
   "execution_count": 108,
   "metadata": {},
   "outputs": [
    {
     "data": {
      "image/png": "[encoded data removed]",
      "text/plain": [
       "<Figure size 360x360 with 1 Axes>"
      ]
     },
     "metadata": {},
     "output_type": "display_data"
    },
    {
     "data": {
      "image/png": "[encoded data removed]",
      "text/plain": [
       "<Figure size 360x360 with 1 Axes>"
      ]
     },
     "metadata": {},
     "output_type": "display_data"
    },
    {
     "data": {
      "image/png": "[encoded data removed]",
      "text/plain": [
       "<Figure size 360x360 with 1 Axes>"
      ]
     },
     "metadata": {},
     "output_type": "display_data"
    }
   ],
   "source": [
    "# plot resulting test points\n",
    "if D >= 2:\n",
    "    plt.figure(figsize=(5, 5))\n",
    "    plt.axis([-1, 1, -1, 1])\n",
    "    plt.scatter(thresh_encs[:, 0], thresh_encs[:, 1], c='b')\n",
    "    plt.scatter(sample_pts[:, 0], sample_pts[:, 1], c='r')\n",
    "    plt.title('first two dims' + \n",
    "              '\\ntotal base encs = ' + str(thresh_encs.shape[0]) + \n",
    "              '\\ntotal sample points = ' + str(sample_pts.shape[0]))\n",
    "    \n",
    "    plt.figure(figsize=(5, 5))\n",
    "    plt.axis([-1, 1, -1, 1])\n",
    "    plt.scatter(thresh_encs[:, 1], thresh_encs[:, 2], c='b')\n",
    "    plt.scatter(sample_pts[:, 1], sample_pts[:, 2], c='r')\n",
    "    \n",
    "    plt.figure(figsize=(5, 5))\n",
    "    plt.axis([-1, 1, -1, 1])\n",
    "    plt.scatter(thresh_encs[:, 2], thresh_encs[:, 0], c='b')\n",
    "    plt.scatter(sample_pts[:, 2], sample_pts[:, 0], c='r')\n",
    "          "
   ]
  },
  {
   "cell_type": "code",
   "execution_count": null,
   "metadata": {
    "collapsed": true
   },
   "outputs": [],
   "source": [
    "# now rig up a fake neuron response generator to test this on\n",
    "# first just do ideal responses, no noise\n",
    "\n",
    "offset_scale = 20\n",
    "offsets = (2 * np.random.rand(N,) - 1) * offset_scale\n",
    "gain_scale = 100\n",
    "gains = np.random.rand(N,) * gain_scale\n",
    "noise_scale = 2\n",
    "\n",
    "def nrn_fn(enc, offset, gain, x):\n",
    "    return np.maximum(gain * np.dot(enc, x) + offset, 0)\n",
    "\n",
    "firing_rates = np.zeros((sample_pts.shape[0], N))\n",
    "for n in range(N):\n",
    "    for s in range(sample_pts.shape[0]):\n",
    "        firing_rates[s, n] = nrn_fn(approx_encs[n, :], offsets[n], gains[n], sample_pts[s, :])\n",
    "        \n",
    "firing_rates += np.maximum(0, np.random.randn(*firing_rates.shape) * noise_scale)\n"
   ]
  },
  {
   "cell_type": "code",
   "execution_count": null,
   "metadata": {
    "collapsed": true
   },
   "outputs": [],
   "source": [
    "# plot neurons' behaviors (just making sure I got the spike generation right)\n",
    "\n",
    "if D == 1:\n",
    "    plt.figure()\n",
    "    for n in range(N):\n",
    "        plt.scatter(sample_pts, firing_rates[:, n])\n",
    "    \n",
    "elif D == 2:\n",
    "    \n",
    "    # pick a neuron with a reasonable response\n",
    "    nrn_idx = 0\n",
    "    while True:\n",
    "        if (np.abs(offsets[nrn_idx]) < .5 * offset_scale and \n",
    "            np.linalg.norm(approx_encs[nrn_idx, :]) > .2):\n",
    "            break\n",
    "        nrn_idx += 1\n",
    "    #nrn_idx = np.random.randint(N)\n",
    "    \n",
    "    from mpl_toolkits.mplot3d import Axes3D\n",
    "    fig = plt.figure(figsize=(5,5))\n",
    "    ax = fig.add_subplot(111, projection='3d')\n",
    "    \n",
    "    ax.scatter(sample_pts[:, 0], sample_pts[:, 1], firing_rates[:, nrn_idx])\n",
    "    \n",
    "    plt.figure(figsize=(5, 5))\n",
    "    plt.tricontourf(sample_pts[:, 0], sample_pts[:, 1], firing_rates[:, nrn_idx])\n",
    "    plt.colorbar()"
   ]
  },
  {
   "cell_type": "code",
   "execution_count": null,
   "metadata": {
    "collapsed": true
   },
   "outputs": [],
   "source": [
    "# try fitting, compare estimates to actual encoders \n",
    "\n",
    "est_encs, est_offsets, residuals, insufficient = Calibrator.estimate_encs_from_tuning_curves(sample_pts, \n",
    "                                                                                             firing_rates, \n",
    "                                                                                             solver='scipy_opt',\n",
    "                                                                                             fired_tolerance=5)\n",
    "\n",
    "print(np.sum(insufficient), \"/\", est_encs.shape[0], \"neurons needed more points\")"
   ]
  },
  {
   "cell_type": "code",
   "execution_count": null,
   "metadata": {
    "collapsed": true
   },
   "outputs": [],
   "source": [
    "all_sample_pts = sample_pts.copy()\n",
    "all_spikes = firing_rates.copy()\n",
    "if D == 1:\n",
    "    plot_nrn_idxs = np.random.randint(N, size=(10,))\n",
    "    \n",
    "    def make_plot():\n",
    "        plt.figure()\n",
    "        order = np.argsort(all_sample_pts.flatten())\n",
    "        sorted_pts = all_sample_pts.flatten()[order]\n",
    "        sorted_spikes = all_spikes[order, :]\n",
    "        plt.gca().set_prop_cycle(None)\n",
    "        plt.plot(sorted_pts, sorted_spikes[:, plot_nrn_idxs], '.-', alpha=.5)\n",
    "\n",
    "        clean_encs = est_encs.copy()\n",
    "        unest = np.isnan(est_offsets)\n",
    "        clean_encs[unest, :] = 0\n",
    "        clean_offsets = est_offsets.copy()\n",
    "        clean_offsets[unest] = 0\n",
    "\n",
    "        compare_pts = np.linspace(-1, 1, 100)\n",
    "        est_A = np.maximum(0, np.dot(compare_pts.reshape(100, 1), clean_encs.T) + clean_offsets)\n",
    "        plt.gca().set_prop_cycle(None)\n",
    "        plt.plot(compare_pts, est_A[:, plot_nrn_idxs])\n",
    "    \n",
    "    make_plot()\n",
    "    plt.axis([-1, 1, 0, 50])\n",
    "    \n",
    "    make_plot()\n",
    "    plt.axis([-1, 1, 0, 20])"
   ]
  },
  {
   "cell_type": "code",
   "execution_count": null,
   "metadata": {
    "collapsed": true
   },
   "outputs": [],
   "source": [
    "# now try the same thing with the chip\n",
    "\n",
    "%load_ext autoreload\n",
    "%autoreload 2\n",
    "\n",
    "from pystorm.hal.net_builder import NetBuilder\n",
    "from pystorm.hal.calibrator import Calibrator, PoolSpec\n",
    "\n",
    "import matplotlib.pyplot as plt\n",
    "%matplotlib inline\n",
    "\n",
    "import numpy as np"
   ]
  },
  {
   "cell_type": "code",
   "execution_count": null,
   "metadata": {
    "collapsed": true
   },
   "outputs": [],
   "source": [
    "# test the D > 1 create_default_yx_taps function (with no bad taps)\n",
    "# this is in the SY, SX space, not Y,X space\n",
    "\n",
    "np.random.seed(1)\n",
    "\n",
    "Y = 8\n",
    "X = 8\n",
    "N = X * Y\n",
    "D = 1\n",
    "SYN_SPACE = 1\n",
    "BIAS = -2\n",
    "\n",
    "SY = Y // 2 // SYN_SPACE\n",
    "SX = X // 2 // SYN_SPACE\n",
    "\n",
    "yx_taps = NetBuilder.create_default_yx_taps(SY, SX, D, bad_syn=np.array([[False] * SY] * SX, dtype=bool))\n",
    "print(yx_taps.shape)\n",
    "\n",
    "if D == 1:\n",
    "    plt.imshow(yx_taps[:, :, 0])\n",
    "else:\n",
    "    fig, ax = plt.subplots(1, D, figsize=(D*3,3))\n",
    "    for d in range(D):\n",
    "        ax[d].imshow(yx_taps[:, :, d])"
   ]
  },
  {
   "cell_type": "code",
   "execution_count": null,
   "metadata": {
    "collapsed": true
   },
   "outputs": [],
   "source": [
    "# try again with bad_syn set to the first :SY, :SX taps from the chip data\n",
    "\n",
    "from pystorm.hal import HAL\n",
    "HAL = HAL()\n",
    "\n",
    "net_builder = NetBuilder(HAL)\n",
    "cal = Calibrator(HAL)\n",
    "\n",
    "bad_syn, _ = cal.get_bad_syns()\n",
    "\n",
    "yx_taps = NetBuilder.create_default_yx_taps(SY, SX, D, bad_syn=bad_syn[:SY, :SX])\n",
    "\n",
    "plt.figure()\n",
    "plt.imshow(bad_syn[:SY, :SX])\n",
    "\n",
    "if D == 1:\n",
    "    plt.figure()\n",
    "    plt.imshow(yx_taps[:, :, 0])\n",
    "else:\n",
    "    fig, ax = plt.subplots(1, D, figsize=(D*3,3))\n",
    "    for d in range(D):\n",
    "        ax[d].imshow(yx_taps[:, :, d])"
   ]
  },
  {
   "cell_type": "code",
   "execution_count": null,
   "metadata": {
    "collapsed": true
   },
   "outputs": [],
   "source": [
    "# now that we know that works, try the whole thing\n",
    "\n",
    "tap_matrix = NetBuilder.syn_taps_to_nrn_taps(yx_taps, spacing=SYN_SPACE)\n",
    "NetBuilder.make_taps_even(tap_matrix)\n",
    "\n",
    "# create PoolSpec, which we'll use from now on with Calibrator\n",
    "ps = PoolSpec(YX=(Y, X), loc_yx=(0, 0),\n",
    "              TPM=tap_matrix,\n",
    "              biases=BIAS)\n",
    "\n",
    "net = net_builder.create_single_pool_net_from_spec(ps)\n",
    "pool = net.get_pools()[0]\n",
    "inp = net.get_inputs()[0]\n",
    "\n",
    "# map the network\n",
    "print(\"mapping network\")\n",
    "HAL.map(net)\n",
    "\n",
    "FMAX = cal.optimize_fmax(ps)\n",
    "ps.fmax = FMAX\n",
    "print(\"using FMAX of\", FMAX)"
   ]
  },
  {
   "cell_type": "code",
   "execution_count": null,
   "metadata": {
    "collapsed": true
   },
   "outputs": [],
   "source": [
    "# do it!\n",
    "print(\"running encoders and offsets experiment\")\n",
    "est_encs, est_offsets, insufficient_samples, debug = cal.get_encoders_and_offsets(ps)"
   ]
  },
  {
   "cell_type": "code",
   "execution_count": null,
   "metadata": {
    "collapsed": true
   },
   "outputs": [],
   "source": [
    "all_sample_pts = debug['all_sample_pts']\n",
    "all_spikes = debug['all_spikes']\n",
    "\n",
    "def make_tuning_plot(all_sample_pts, all_spikes, est_encs, est_offsets, num_to_plot=None, seed=0):\n",
    "    if num_to_plot is None:\n",
    "        plot_nrn_idxs = np.arange(N)\n",
    "    else:\n",
    "        np.random.seed(seed)\n",
    "        plot_nrn_idxs = np.random.randint(N, size=(num_to_plot,))\n",
    "\n",
    "    plt.figure()\n",
    "    order = np.argsort(all_sample_pts.flatten())\n",
    "    sorted_pts = all_sample_pts.flatten()[order]\n",
    "    sorted_spikes = all_spikes[order, :]\n",
    "    plt.gca().set_prop_cycle(None)\n",
    "    plt.plot(sorted_pts, sorted_spikes[:, plot_nrn_idxs], '.-', alpha=.5)\n",
    "\n",
    "    clean_encs = est_encs.copy()\n",
    "    unest = np.isnan(est_offsets)\n",
    "    clean_encs[unest, :] = 0\n",
    "    clean_offsets = est_offsets.copy()\n",
    "    clean_offsets[unest] = 0\n",
    "\n",
    "    compare_pts = np.linspace(-1, 1, 100)\n",
    "    est_A = np.maximum(0, np.dot(compare_pts.reshape(100, 1), clean_encs.T) + clean_offsets)\n",
    "    plt.gca().set_prop_cycle(None)\n",
    "    plt.plot(compare_pts, est_A[:, plot_nrn_idxs])\n",
    "    \n",
    "if D == 1:\n",
    "    \n",
    "    def make_this_plot(num_to_plot=N, seed=0):\n",
    "        make_tuning_plot(all_sample_pts, all_spikes, est_encs, est_offsets, num_to_plot, seed)\n",
    "    \n",
    "    make_this_plot()\n",
    "    \n",
    "    make_this_plot()\n",
    "    plt.axis([-1, 1, 0, 100])\n",
    "    \n",
    "    seed = np.random.randint(100)\n",
    "    make_this_plot(num_to_plot=N//4, seed=seed)\n",
    "    \n",
    "    make_this_plot(num_to_plot=N//4, seed=seed)\n",
    "    plt.axis([-1, 1, 0, 100])"
   ]
  },
  {
   "cell_type": "code",
   "execution_count": null,
   "metadata": {
    "collapsed": true
   },
   "outputs": [],
   "source": [
    "from mpl_toolkits.axes_grid1 import make_axes_locatable\n",
    "\n",
    "if D == 1:\n",
    "    plt.figure()\n",
    "    plt.imshow(est_encs.reshape(Y, X))\n",
    "    plt.colorbar()\n",
    "else:\n",
    "    fig, ax = plt.subplots(1, D, figsize=(D*3,3))\n",
    "    for d in range(D):\n",
    "        im = ax[d].imshow(est_encs[:, d].reshape(Y, X))\n",
    "        divider = make_axes_locatable(ax[d])\n",
    "        cax = divider.append_axes(\"right\", size=\"5%\", pad=0.05)\n",
    "        plt.colorbar(im, cax=cax)\n",
    "        \n",
    "plt.figure()\n",
    "plt.hist(est_offsets[~np.isnan(est_offsets)], bins=20)\n",
    "\n",
    "gain = np.linalg.norm(est_encs, axis=1)\n",
    "bias = est_offsets\n",
    "\n",
    "plt.figure()\n",
    "plt.scatter(gain, bias)\n",
    "x = np.linspace(0, max(gain), 100)\n",
    "plt.plot(x, x)\n",
    "plt.plot(x, -x)\n",
    "\n",
    "unit_encs = (est_encs.T / gain).T\n",
    "\n",
    "if D > 1:\n",
    "    plt.figure()\n",
    "    plt.scatter(unit_encs[:, 0], unit_encs[:, 1])\n",
    "\n"
   ]
  },
  {
   "cell_type": "code",
   "execution_count": null,
   "metadata": {
    "collapsed": true
   },
   "outputs": [],
   "source": [
    "# validate estimated encoders and offsets\n",
    "\n",
    "NUM_VAL_SAMPLES = 20\n",
    "if D == 1:\n",
    "    val_pts = np.linspace(-1, 1, NUM_VAL_SAMPLES).reshape((NUM_VAL_SAMPLES, 1))\n",
    "else:\n",
    "    val_pts = np.random.randn(NUM_VAL_SAMPLES, D)\n",
    "    val_pts_norms = np.linalg.norm(val_pts, axis=1)\n",
    "    val_pts = (val_pts.T / val_pts_norms).T\n",
    "\n",
    "rmse, meas_A, est_A = cal.validate_est_encs(est_encs, est_offsets, ps, val_pts)"
   ]
  },
  {
   "cell_type": "code",
   "execution_count": null,
   "metadata": {
    "collapsed": true
   },
   "outputs": [],
   "source": [
    "clean_encs = est_encs.copy()\n",
    "unest = np.isnan(est_offsets)\n",
    "clean_encs[unest, :] = 0\n",
    "clean_offsets = est_offsets.copy()\n",
    "clean_offsets[unest] = 0\n",
    "\n",
    "est_A = np.maximum(0, np.dot(val_pts, clean_encs.T) + clean_offsets)\n",
    "\n",
    "RMSE = np.sqrt(np.mean((est_A.flatten() - meas_A.flatten())**2))\n",
    "\n",
    "plt.figure()\n",
    "plt.imshow(est_A)\n",
    "plt.colorbar()\n",
    "plt.title('est_A')\n",
    "\n",
    "plt.figure()\n",
    "plt.imshow(meas_A)\n",
    "plt.colorbar()\n",
    "plt.title('meas_A')\n",
    "\n",
    "plt.figure()\n",
    "plt.imshow(meas_A - est_A)\n",
    "plt.colorbar()\n",
    "plt.title('diff')\n",
    "\n",
    "\n",
    "if D == 1:\n",
    "    plt.figure()\n",
    "    plt.gca().set_prop_cycle(None)\n",
    "    plt.plot(val_pts, meas_A, '.-')\n",
    "    plt.gca().set_prop_cycle(None)\n",
    "    plt.plot(val_pts, est_A, '-')\n",
    "    \n",
    "    plt.figure()\n",
    "    plt.gca().set_prop_cycle(None)\n",
    "    plt.plot(val_pts, meas_A, '.-')\n",
    "    plt.gca().set_prop_cycle(None)\n",
    "    plt.plot(val_pts, est_A, '-')\n",
    "    plt.axis([-1, 1, 0, 200])\n",
    "    \n",
    "    #nrn_cmap = plt.get_cmap(\"viridis\")(np.linspace(0, 1, meas_A.shape[1]))\n",
    "    #color_idxs = np.argsort(clean_offsets)\n",
    "    #nrn_colors = nrn_cmap[color_idxs]\n",
    "    #\n",
    "    #plt.figure()\n",
    "    #for n in range(meas_A.shape[1]):\n",
    "    #    plt.plot(val_pts, meas_A[:, n], '.-', c=nrn_colors[n])\n",
    "    #for n in range(meas_A.shape[1]):\n",
    "    #    plt.plot(val_pts, est_A[:, n], '-', c=nrn_colors[n])\n",
    "    #\n",
    "    #plt.figure()\n",
    "    #for n in range(meas_A.shape[1]):\n",
    "    #    plt.plot(val_pts, meas_A[:, n], '.-', c=nrn_colors[n])\n",
    "    #for n in range(meas_A.shape[1]):\n",
    "    #    plt.plot(val_pts, est_A[:, n], '-', c=nrn_colors[n])\n",
    "    #plt.axis([-1, 1, 0, 200])\n",
    "    \n",
    "    #valid_off = ~np.isnan(est_offsets)\n",
    "    #low_off = est_offsets < np.median(est_offsets[valid_off])\n",
    "    #meas_A_low = meas_A[:, low_off & valid_off]\n",
    "    #est_A_low = est_A[:, low_off & valid_off]\n",
    "    #\n",
    "    #plt.figure()\n",
    "    #plt.plot(meas_A_low, 'b')\n",
    "    #plt.plot(est_A_low, 'r')\n"
   ]
  },
  {
   "cell_type": "code",
   "execution_count": null,
   "metadata": {
    "collapsed": true
   },
   "outputs": [],
   "source": []
  }
 ],
 "metadata": {
  "kernelspec": {
   "display_name": "Python 3",
   "language": "python",
   "name": "python3"
  },
  "language_info": {
   "codemirror_mode": {
    "name": "ipython",
    "version": 3
   },
   "file_extension": ".py",
   "mimetype": "text/x-python",
   "name": "python",
   "nbconvert_exporter": "python",
   "pygments_lexer": "ipython3",
   "version": "3.6.1"
  }
 },
 "nbformat": 4,
 "nbformat_minor": 2
}
